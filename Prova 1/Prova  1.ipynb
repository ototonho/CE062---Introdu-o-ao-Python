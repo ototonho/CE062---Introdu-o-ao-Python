{
 "cells": [
  {
   "cell_type": "markdown",
   "id": "931c53e6",
   "metadata": {},
   "source": [
    "# Prova 1 "
   ]
  },
  {
   "cell_type": "markdown",
   "id": "02c69151",
   "metadata": {},
   "source": [
    "**Aluno**: Antonio Paulo Steffen Neto\n",
    "\n",
    "**GRR**: GRR20240436\n",
    "\n",
    "**Link para o Vídeo**: [Vídeo - Prova 1 - Antonio Steffen](https://drive.google.com/file/d/1JgtWSeBfuQ3qcuCY_EcOl4Zp6MfCVmYi/view?usp=sharing)"
   ]
  },
  {
   "cell_type": "markdown",
   "id": "9a2b7de9",
   "metadata": {},
   "source": [
    "## Exercício 1\n",
    "\n",
    "Você recebeu três tabelas de um pequeno sistema de vendas: **vendas**, **vendedores** e **produtos**, em formato csv.\n",
    "\n",
    "Sua tarefa é escrever um código que importe os dados dessas tabelas para o Python, una as informações e gere uma visão consolidada das vendas, utilizando a biblioteca pandas. Após gerar essa visão, responda às questões:\n",
    "\n",
    "- Quem é o melhor e o pior vendedor?\n",
    "- Qual o produto que mais vende e o que menos vende?\n",
    "- Qual é a média mensal de vendas (R$) dessa empresa? E o desvio padrão?\n",
    "- Qual foi o mês que mais vendeu? Qual o total vendido até agora?\n",
    "- Que outras análises podemos extrair desses dados?\n"
   ]
  },
  {
   "cell_type": "code",
   "execution_count": 1,
   "id": "6391f307",
   "metadata": {},
   "outputs": [
    {
     "name": "stderr",
     "output_type": "stream",
     "text": [
      "<positron-console-cell-1>:5: ParserWarning: Falling back to the 'python' engine because the 'c' engine does not support regex separators (separators > 1 char and different from '\\s+' are interpreted as regex); you can avoid this warning by specifying engine='python'.\n",
      "<positron-console-cell-1>:6: ParserWarning: Falling back to the 'python' engine because the 'c' engine does not support regex separators (separators > 1 char and different from '\\s+' are interpreted as regex); you can avoid this warning by specifying engine='python'.\n",
      "<positron-console-cell-1>:7: ParserWarning: Falling back to the 'python' engine because the 'c' engine does not support regex separators (separators > 1 char and different from '\\s+' are interpreted as regex); you can avoid this warning by specifying engine='python'.\n"
     ]
    },
    {
     "data": {
      "text/plain": [
       "'vendas.head()'"
      ]
     },
     "metadata": {},
     "output_type": "display_data"
    },
    {
     "data": {
      "text/plain": [
       "'vendedores.head()'"
      ]
     },
     "metadata": {},
     "output_type": "display_data"
    },
    {
     "data": {
      "text/plain": [
       "'produtos.head()'"
      ]
     },
     "metadata": {},
     "output_type": "display_data"
    }
   ],
   "source": [
    "import pandas as pd\n",
    "\n",
    "## Importação do conjunto de dados\n",
    "\n",
    "vendas = pd.read_csv(\"C:/Users/anton/OneDrive/Área de Trabalho/CE062---Introdu-o-ao-Python/Prova 1/vendas.csv\", sep='[;,\\\\s]+', header = None)\n",
    "vendedores = pd.read_csv(\"C:/Users/anton/OneDrive/Área de Trabalho/CE062---Introdu-o-ao-Python/Prova 1/vendedores.csv\", sep='[;,\\\\s]+', header = None)\n",
    "produtos = pd.read_csv(\"C:/Users/anton/OneDrive/Área de Trabalho/CE062---Introdu-o-ao-Python/Prova 1/produtos.csv\", sep='[;,\\\\s]+', header = None)\n",
    "\n",
    "## checando\n",
    "\n",
    "display('vendas.head()', 'vendedores.head()', 'produtos.head()')\n",
    "\n",
    "vendas.head()\n",
    "vendedores.head()\n",
    "produtos.head()\n",
    "\n",
    "## removendo a coluna à direita\n",
    "\n",
    "vendas = vendas.iloc[:, :-1]\n",
    "\n",
    "## nomeando as colunas\n",
    "\n",
    "vendas.columns = ['cod_vendedor', 'cod_produto', 'data', 'valor_vendido']\n",
    "vendedores.columns = ['cod_vendedor', 'nome_vendedor']\n",
    "produtos.columns = ['cod_produto', 'nome_produto']\n",
    "\n",
    "## Unindo as informações\n",
    "\n",
    "vendas_vendedores = pd.merge(vendas, vendedores, how = 'left', left_on = 'cod_vendedor', right_on = 'cod_vendedor')\n",
    "vendas_vendedores.head()\n",
    "\n",
    "vendas_completo = pd.merge(vendas_vendedores, produtos, how = 'left', left_on = 'cod_produto', right_on = 'cod_produto')\n",
    "vendas_completo.head()\n",
    "\n",
    "## Arrumando as datas\n",
    "\n",
    "vendas_completo['data'] = pd.to_datetime(vendas_completo['data'], format='%d-%m-%Y', errors='coerce')\n",
    "\n",
    "## Garantindo que valor vendido seja numérico\n",
    "\n",
    "vendas_completo['valor_vendido'] = pd.to_numeric(vendas_completo['valor_vendido'], errors='coerce')\n",
    "\n",
    "## Criando uma coluna Mes\n",
    "\n",
    "vendas_completo['mes'] = vendas_completo['data'].dt.to_period('M')\n"
   ]
  },
  {
   "cell_type": "markdown",
   "id": "9fc117d6",
   "metadata": {},
   "source": [
    "### Questão A\n",
    "\n",
    "- Quem é o melhor e o pior vendedor?\n"
   ]
  },
  {
   "cell_type": "code",
   "execution_count": 2,
   "id": "d34bf3b4",
   "metadata": {},
   "outputs": [
    {
     "name": "stdout",
     "output_type": "stream",
     "text": [
      "Questão A\n",
      "\n",
      "A melhor vendedor é a Denise, ela vendeu R$436.\n",
      "\n",
      "O pior vendedor é o Bruno, ele vendeu R$306.\n"
     ]
    }
   ],
   "source": [
    "## a) melhor e pior vendedor\n",
    "\n",
    "vendas_por_vendedor = vendas_completo.groupby('nome_vendedor')['valor_vendido'].sum()\n",
    "\n",
    "melhor_vendedor = vendas_por_vendedor.idxmax()\n",
    "valor_melhor = vendas_por_vendedor.max()\n",
    "\n",
    "pior_vendedor = vendas_por_vendedor.idxmin()\n",
    "valor_pior = vendas_por_vendedor.min()\n",
    "\n",
    "print(\"Questão A\")\n",
    "print(f\"\\nA melhor vendedor é a {melhor_vendedor}, ela vendeu R${valor_melhor}.\")\n",
    "print(f\"\\nO pior vendedor é o {pior_vendedor}, ele vendeu R${valor_pior}.\")"
   ]
  },
  {
   "cell_type": "markdown",
   "id": "e05013ea",
   "metadata": {},
   "source": [
    "### Questão B\n",
    "\n",
    "- Qual o produto que mais vende e o que menos vende?"
   ]
  },
  {
   "cell_type": "code",
   "execution_count": 3,
   "id": "8ce62cfc",
   "metadata": {},
   "outputs": [
    {
     "name": "stdout",
     "output_type": "stream",
     "text": [
      "Questão B\n",
      "\n",
      "O produto que mais vende é a Caneta, o valor vendido foi R$623.\n",
      "\n",
      "O produto que menos vende é a Pasta, o valor vendido foi R$120.\n"
     ]
    }
   ],
   "source": [
    "## b) produtos que vendem mais e menos\n",
    "\n",
    "# Agrupando e contando o número de transações por produto\n",
    "contagem_por_produto = vendas_completo.groupby('nome_produto')['valor_vendido'].sum()\n",
    "\n",
    "# Encontrando o Máximo (Mais Vendido) e o Mínimo (Menos Vendido)\n",
    "mais_vendido = contagem_por_produto.idxmax()\n",
    "qtd_mais_vendido = contagem_por_produto.max()\n",
    "\n",
    "menos_vendido = contagem_por_produto.idxmin()\n",
    "qtd_menos_vendido = contagem_por_produto.min()\n",
    "\n",
    "print(\"Questão B\")\n",
    "print(f\"\\nO produto que mais vende é a {mais_vendido}, o valor vendido foi R${qtd_mais_vendido}.\")\n",
    "print(f\"\\nO produto que menos vende é a {menos_vendido}, o valor vendido foi R${qtd_menos_vendido}.\")"
   ]
  },
  {
   "cell_type": "markdown",
   "id": "e2d7b8e3",
   "metadata": {},
   "source": [
    "### Qustão C\n",
    "\n",
    "- Qual é a média mensal de vendas (R$) dessa empresa? E o desvio padrão?"
   ]
  },
  {
   "cell_type": "code",
   "execution_count": 4,
   "id": "385e14a3",
   "metadata": {},
   "outputs": [
    {
     "name": "stdout",
     "output_type": "stream",
     "text": [
      "Questão C\n",
      "\n",
      "A média mensal de vendas da empresa é R$490.33.\n",
      "\n",
      "O desvião padrão das vendas por mês é 159.18.\n"
     ]
    }
   ],
   "source": [
    "## c) média mensal e desvio padrão\n",
    "\n",
    "## Agrupando as vendas por mês\n",
    "vendas_por_mes = vendas_completo.groupby('mes')['valor_vendido'].sum()\n",
    "\n",
    "## Média Mensal de Vendas da Empresa\n",
    "media_mensal = round(vendas_por_mes.mean(), 2)\n",
    "\n",
    "## Desvio Padrão Mensal\n",
    "desvio_padrao_mensal = round(vendas_por_mes.std(), 2)\n",
    "\n",
    "\n",
    "print(\"Questão C\")\n",
    "print(f\"\\nA média mensal de vendas da empresa é R${media_mensal}.\")\n",
    "print(f\"\\nO desvião padrão das vendas por mês é {desvio_padrao_mensal}.\")"
   ]
  },
  {
   "cell_type": "markdown",
   "id": "76ec8365",
   "metadata": {},
   "source": [
    "### Questão D\n",
    "\n",
    "- Qual foi o mês que mais vendeu? Qual o total vendido até agora?"
   ]
  },
  {
   "cell_type": "code",
   "execution_count": 5,
   "id": "21b99e5e",
   "metadata": {},
   "outputs": [
    {
     "name": "stdout",
     "output_type": "stream",
     "text": [
      "Questão D\n",
      "\n",
      "O mês em que mais houve vendas foi 2025-01.\n",
      "\n",
      "O total vendido pela empresa até o momento foi de R$1471.\n"
     ]
    }
   ],
   "source": [
    "## d) mês de maior venda e total vendido\n",
    "\n",
    "## Agrupando as vendas por mês\n",
    "vendas_por_mes = vendas_completo.groupby('mes')['valor_vendido'].sum()\n",
    "\n",
    "## Mês em que mais se vendeu e total vendido\n",
    "\n",
    "mes_de_pico = vendas_por_mes.idxmax()\n",
    "\n",
    "print(\"Questão D\")\n",
    "print(f\"\\nO mês em que mais houve vendas foi {mes_de_pico}.\")\n",
    "\n",
    "## Total vendido\n",
    "total_vendido = vendas_completo['valor_vendido'].sum()\n",
    "\n",
    "print(f\"\\nO total vendido pela empresa até o momento foi de R${total_vendido}.\")"
   ]
  },
  {
   "cell_type": "markdown",
   "id": "c88a8231",
   "metadata": {},
   "source": [
    "### Questão E - adicionais\n",
    "\n",
    "- Que outras análises podemos extrair desses dados?"
   ]
  },
  {
   "cell_type": "code",
   "execution_count": 6,
   "id": "c2194fa2",
   "metadata": {},
   "outputs": [
    {
     "name": "stdout",
     "output_type": "stream",
     "text": [
      "Questão E\n",
      "\n",
      "O valor médio de vendas por produto foi de \n",
      "Borracha    158.500000\n",
      "Caneta      155.750000\n",
      "Pasta       120.000000\n",
      "Caderno     115.000000\n",
      "Cola         60.333333.\n",
      "\n",
      "O valor total de vendas por produto foi de \n",
      "Caneta      4\n",
      "Cola        3\n",
      "Borracha    2\n",
      "Caderno     2\n",
      "Pasta       1.\n"
     ]
    }
   ],
   "source": [
    "## e) análises adicionais\n",
    "\n",
    "## Análises adicionais\n",
    "\n",
    "### Valor médio dos produtos\n",
    "\n",
    "print(\"Questão E\")\n",
    "valor_medio = vendas_completo.groupby('nome_produto')['valor_vendido'].mean().sort_values(ascending=False)\n",
    "\n",
    "print(f\"\\nO valor médio de vendas por produto foi de \\n{valor_medio.to_string(index=True, header=False)}.\")\n",
    "\n",
    "### Produtos de vendas mais recorrentes\n",
    "\n",
    "vendas_totais_produto = vendas_completo.groupby('nome_produto')['valor_vendido'].size().sort_values(ascending=False)\n",
    "\n",
    "print(f\"\\nO valor total de vendas por produto foi de \\n{vendas_totais_produto.to_string(index=True, header=False)}.\")"
   ]
  },
  {
   "cell_type": "markdown",
   "id": "a249b164",
   "metadata": {},
   "source": [
    "## Exercício 2\n",
    "\n",
    "Construir um simulador de urna eletrônica, no qual, para cadastrar um candidato, o usuário deverá fornecer (digitar) o número e nome do candidato. Podem ser cadastrados quantos candidatos o usuário quiser e o número deve possuir 2 dígitos, mas é salvo de maneira textual.\n",
    "A função isdigit() do tipo textual pode ser usada para verificar se o texto é um número válido. Por fim, os candidatos cadastrados devem ser mantidos em um dicionário (número: nome)."
   ]
  },
  {
   "cell_type": "code",
   "execution_count": 7,
   "id": "e6c8b48e",
   "metadata": {},
   "outputs": [
    {
     "name": "stdout",
     "output_type": "stream",
     "text": [
      "-- CADASTRO DE URNA --\n",
      "Candidato 10 - Pelé cadastrado com sucesso!\n",
      "Candidato 12 - Falcão cadastrado com sucesso!\n",
      "Candidato 04 - Baresi cadastrado com sucesso!\n",
      "\n",
      "-- CADASTRO FINALIZADO --\n",
      "\n",
      "LISTA FINAL DE CANDIDATOS:\n",
      "  Número: 10 Nome: Pelé\n",
      "  Número: 12 Nome: Falcão\n",
      "  Número: 04 Nome: Baresi\n"
     ]
    }
   ],
   "source": [
    "def cadastro_candidatos():\n",
    "\n",
    "    candidatos = {}\n",
    "\n",
    "    print(\"-- CADASTRO DE URNA --\")\n",
    "\n",
    "\n",
    "    while True:\n",
    "        # 1. Número do candidato\n",
    "        numero = input(\"\\nDigite o número do candidato (2 dígitos, ou 'fim' para sair): \")\n",
    "        \n",
    "        # Condição de saída\n",
    "        if numero.lower() == 'fim':\n",
    "            break\n",
    "\n",
    "        if len(numero) != 2:\n",
    "            print(\"ERRO: O número do candidato deve ter exatamente 2 dígitos.\")\n",
    "            continue # Volta para o início do loop\n",
    "        \n",
    "        # Verifica se é um número válido usando isdigit()\n",
    "        if not numero.isdigit():\n",
    "            print(\"ERRO: O número do candidato deve conter apenas dígitos (0-9).\")\n",
    "            continue # Volta para o início do loop\n",
    "            \n",
    "        # Checa se há números repetidos\n",
    "        if numero in candidatos:\n",
    "            print(f\"ATENÇÃO: O número {numero} já pertence ao candidato(a) {candidatos[numero]}. Por favor, escolha outro número.\")\n",
    "            continue # Volta para o início do loop\n",
    "\n",
    "        # 2. Nome do candidato\n",
    "        nome = input(f\"Digite o nome do candidato {numero}: \")\n",
    "        \n",
    "        # Remove espaços extras do nome, se houver\n",
    "        nome = nome.strip()\n",
    "        \n",
    "        # 3. Armazenamento no Dicionário\n",
    "        candidatos[numero] = nome\n",
    "        print(f\"Candidato {numero} - {nome} cadastrado com sucesso!\")\n",
    "        \n",
    "    print(\"\\n-- CADASTRO FINALIZADO --\")\n",
    "    \n",
    "    # Retorna o dicionário de candidatos cadastrados\n",
    "    return candidatos\n",
    "\n",
    "# Execução da função e armazenamento do resultado\n",
    "lista_candidatos = cadastro_candidatos()\n",
    "\n",
    "# Exibição dos candidatos cadastrados\n",
    "print(\"\\nLISTA FINAL DE CANDIDATOS:\")\n",
    "if lista_candidatos:\n",
    "    # Formata a impressão para exibir cada par de chave:valor\n",
    "    for numero, nome in lista_candidatos.items():\n",
    "        print(f\"  Número: {numero} Nome: {nome}\")\n",
    "else:\n",
    "    print(\"Nenhum candidato foi cadastrado.\")\n"
   ]
  },
  {
   "cell_type": "markdown",
   "id": "0625be14",
   "metadata": {},
   "source": [
    "## Exercício 3\n",
    "\n",
    "Elabore um algoritmo que crie uma lista de tuplas, em que cada tupla contenha o nome da loja e o seu faturamento mensal (em reais). Os valores a serem imputados estão no arquivo lojas_faturamento.txt. O programa deve solicitar ao usuário que digite esses dados no momento da execução, de forma que sejam cadastradas as 10 lojas. Em seguida, o programa deve calcular o novo valor do faturamento aplicando os seguintes descontos:\n",
    "\n",
    "• 25% de desconto para lojas com faturamento de até R$40.000,00;\n",
    "• 15% de desconto para lojas com faturamento entre R$40.000,01 e R$50.000,00;\n",
    "• 5% de desconto para lojas com faturamento acima de R$50.000,01.\n",
    "\n",
    "(a) Implemente a lógica para aplicar os descontos a cada loja com base nas faixas de faturamento indicadas.\n",
    "(b) Após aplicar os descontos, o programa deve:\n",
    "\n",
    "• Exibir **o valor total de desconto concedido** (soma das diferenças entre os faturamentos originais e os ajustados);\n",
    "• Mostrar **o nome das lojas com faturamento inferior a R$40.000,00** após o desconto.\n",
    "\n",
    "(c) Com os mesmos dados inseridos, plote dois histogramas (antes e depois) e calcule média, mediana, desvio-padrão, mínimo e máximo usando a função do Desafio 2.\n",
    "\n",
    "• Plote dois **histogramas** para visualizar a distribuição dos faturamentos das lojas antes e depois do desconto;\n",
    "• Utilize a **função de estatística descritiva criada no Desafio 2** para calcular e exibir as seguintes medidas:\n",
    "\n",
    "    – Média;\n",
    "    – Mediana;\n",
    "    – Desvio padrão;\n",
    "    – Valor mínimo e máximo.\n",
    "\n",
    "\n",
    "**Dica**: Você pode utilizar bibliotecas como matplotlib.pyplot para o histograma e numpy para facilitar os cálculos. A função do Desafio 2 deve receber uma\n",
    "lista de valores e retornar essas medidas estatísticas."
   ]
  },
  {
   "cell_type": "code",
   "execution_count": 1,
   "id": "29a05bea",
   "metadata": {},
   "outputs": [
    {
     "name": "stdout",
     "output_type": "stream",
     "text": [
      "--- QUESTÃO A - CADASTRO DE FATURAMENTO DAS LOJAS\n",
      "Loja 1 de 10: LojaA | Faturamento: 38500.0\n",
      "Loja 2 de 10: LojaB | Faturamento: 42000.0\n",
      "Loja 3 de 10: LojaC | Faturamento: 51500.0\n",
      "Loja 4 de 10: LojaD | Faturamento: 39900.0\n",
      "Loja 5 de 10: LojaE | Faturamento: 47800.0\n",
      "Loja 6 de 10: LojaF | Faturamento: 62500.0\n",
      "Loja 7 de 10: LojaG | Faturamento: 35200.0\n",
      "Loja 8 de 10: LojaH | Faturamento: 50100.0\n",
      "Loja 9 de 10: LojaI | Faturamento: 44750.0\n",
      "Loja 10 de 10: LojaJ | Faturamento: 38990.0\n",
      "\n",
      "--- QUESTÃO B - RESULTADOS FINAIS\n",
      "\n",
      "VALOR TOTAL DE DESCONTO CONCEDIDO: R$ 66,535.00\n",
      "\n",
      "LOJAS COM FATURAMENTO INFERIOR A R$40,000.00 (APÓS DESCONTO):\n",
      "- LojaA\n",
      "- LojaB\n",
      "- LojaD\n",
      "- LojaG\n",
      "- LojaI\n",
      "- LojaJ\n",
      "\n",
      "--- QUESTÃO C\n",
      "\n",
      "--- ANÁLISE ESTATÍSTICA (Antes do Desconto)\n",
      "Média: R$ 45,124.00\n",
      "Mediana: R$ 43,375.00\n",
      "Desvio Padrão: R$ 7,692.07\n",
      "Mínimo: R$ 35,200.00\n",
      "Máximo: R$ 62,500.00\n",
      "\n",
      "--- ANÁLISE ESTATÍSTICA (Depois do Desconto)\n",
      "Média: R$ 38,470.50\n",
      "Mediana: R$ 36,868.75\n",
      "Desvio Padrão: R$ 10,188.38\n",
      "Mínimo: R$ 26,400.00\n",
      "Máximo: R$ 59,375.00\n"
     ]
    },
    {
     "data": {
      "image/png": "[encoded data removed]",
      "text/plain": [
       "<Figure size 1200x500 with 2 Axes>"
      ]
     },
     "metadata": {},
     "output_type": "display_data"
    }
   ],
   "source": [
    "import numpy as np\n",
    "import matplotlib.pyplot as plt\n",
    "\n",
    "## Questão A\n",
    "\n",
    "## Função de ESTATÍSTICA DESCRITIVA\n",
    "\n",
    "def calcular_estatisticas(valores: list):\n",
    "    \"\"\"\n",
    "    Calcula e retorna a média, mediana, desvio-padrão, mínimo e máximo\n",
    "    de uma lista de valores.\n",
    "    \"\"\"\n",
    "    if not valores:\n",
    "        return None, None, None, None, None\n",
    "        \n",
    "    # Converte a lista para um array numpy para facilitar os cálculos\n",
    "\n",
    "    arr = np.array(valores)\n",
    "    media = np.mean(arr)\n",
    "    mediana = np.median(arr)\n",
    "    desvio_padrao = np.std(arr)\n",
    "    minimo = np.min(arr)\n",
    "    maximo = np.max(arr)\n",
    "    \n",
    "    return media, mediana, desvio_padrao, minimo, maximo\n",
    "\n",
    "## Entrada de dados \n",
    "\n",
    "def processar_faturamento():\n",
    "    # Lista principal que armazenará as tuplas (nome, faturamento_original)\n",
    "    lojas_faturamento_original = [] \n",
    "    \n",
    "    # Listas para guardar os resultados ajustados\n",
    "    lojas_faturamento_ajustado = []\n",
    "    \n",
    "    NUM_LOJAS = 10\n",
    "    \n",
    "    print(\"--- QUESTÃO A - CADASTRO DE FATURAMENTO DAS LOJAS\")\n",
    "    \n",
    "    # Loop para cadastrar as 10 lojas\n",
    "    for i in range(NUM_LOJAS):\n",
    "        while True:\n",
    "            try:\n",
    "                nome = input(\"Digite o nome da loja: \").strip()\n",
    "                \n",
    "                # Assume-se que o faturamento será um valor numérico\n",
    "                faturamento = float(input(\"Digite o faturamento mensal (R$): \").replace(',', '.'))\n",
    "                \n",
    "                if faturamento < 0:\n",
    "                    print(\"O faturamento não pode ser negativo. Tente novamente.\")\n",
    "                    continue\n",
    "\n",
    "                print(f\"Loja {i + 1} de {NUM_LOJAS}: {nome} | Faturamento: {faturamento}\")\n",
    "\n",
    "                # Adiciona a tupla à lista\n",
    "                lojas_faturamento_original.append((nome, faturamento))\n",
    "                break\n",
    "                \n",
    "            except ValueError:\n",
    "                print(\"Entrada inválida. Digite um valor numérico para o faturamento.\")\n",
    "        \n",
    "        desconto_percentual = 0\n",
    "        \n",
    "        if faturamento <= 40000.00:\n",
    "            desconto_percentual = 0.25  # 25%\n",
    "        elif 40000.01 <= faturamento <= 50000.00: # creio que poderia ter simplificado com apenas faturamento <= 50000.00\n",
    "            desconto_percentual = 0.15  # 15%\n",
    "        else: # faturamento >= 50000.01\n",
    "            desconto_percentual = 0.05  # 5%\n",
    "            \n",
    "        valor_desconto = faturamento * desconto_percentual\n",
    "        faturamento_ajustado = faturamento - valor_desconto\n",
    "        \n",
    "        # Armazena o resultado ajustado (nome, fat_original, fat_ajustado, desconto_aplicado)\n",
    "        lojas_faturamento_ajustado.append((nome, faturamento, faturamento_ajustado, valor_desconto))\n",
    "        \n",
    "    return lojas_faturamento_original, lojas_faturamento_ajustado\n",
    "\n",
    "\n",
    "## Questão B - Cálculos finais\n",
    "\n",
    "\n",
    "def realizar_calculos_finais(lojas_ajustadas):\n",
    "    total_desconto_concedido = 0.0\n",
    "    lojas_abaixo_40k = []\n",
    "    \n",
    "    print(\"\\n--- QUESTÃO B - RESULTADOS FINAIS\")\n",
    "\n",
    "    for nome, fat_original, fat_ajustado, valor_desconto in lojas_ajustadas:\n",
    "        \n",
    "        # Exibir o valor total de desconto concedido\n",
    "        total_desconto_concedido += valor_desconto\n",
    "        \n",
    "        # Mostrar o nome das lojas com faturamento inferior a R$40.000,00 após o desconto\n",
    "        if fat_ajustado < 40000.00:\n",
    "            lojas_abaixo_40k.append(nome)\n",
    "            \n",
    "    print(f\"\\nVALOR TOTAL DE DESCONTO CONCEDIDO: R$ {total_desconto_concedido:,.2f}\")\n",
    "    \n",
    "    print(\"\\nLOJAS COM FATURAMENTO INFERIOR A R$40,000.00 (APÓS DESCONTO):\")\n",
    "    if lojas_abaixo_40k:\n",
    "        for nome in lojas_abaixo_40k:\n",
    "            print(f\"- {nome}\")\n",
    "    else:\n",
    "        print(\"Nenhuma loja ficou com faturamento inferior a R$40,000.00 após o desconto.\")\n",
    "    \n",
    "    # Retorna os valores de faturamento para a etapa de estatística\n",
    "    faturamento_antes = [t[1] for t in lojas_ajustadas] # fat_original\n",
    "    faturamento_depois = [t[2] for t in lojas_ajustadas] # fat_ajustado\n",
    "    \n",
    "    return faturamento_antes, faturamento_depois\n",
    "\n",
    "## Visualização e Estatística\n",
    "\n",
    "def exibir_estatisticas_e_histogramas(faturamento_antes, faturamento_depois):\n",
    "    \n",
    "    print(\"\\n--- QUESTÃO C\")\n",
    "\n",
    "    print(\"\\n--- ANÁLISE ESTATÍSTICA (Antes do Desconto)\")\n",
    "    stats_antes = calcular_estatisticas(faturamento_antes)\n",
    "    print(f\"Média: R$ {stats_antes[0]:,.2f}\")\n",
    "    print(f\"Mediana: R$ {stats_antes[1]:,.2f}\")\n",
    "    print(f\"Desvio Padrão: R$ {stats_antes[2]:,.2f}\")\n",
    "    print(f\"Mínimo: R$ {stats_antes[3]:,.2f}\")\n",
    "    print(f\"Máximo: R$ {stats_antes[4]:,.2f}\")\n",
    "\n",
    "    print(\"\\n--- ANÁLISE ESTATÍSTICA (Depois do Desconto)\")\n",
    "    stats_depois = calcular_estatisticas(faturamento_depois)\n",
    "    print(f\"Média: R$ {stats_depois[0]:,.2f}\")\n",
    "    print(f\"Mediana: R$ {stats_depois[1]:,.2f}\")\n",
    "    print(f\"Desvio Padrão: R$ {stats_depois[2]:,.2f}\")\n",
    "    print(f\"Mínimo: R$ {stats_depois[3]:,.2f}\")\n",
    "    print(f\"Máximo: R$ {stats_depois[4]:,.2f}\")\n",
    "\n",
    "    # Plotagem dos Histogramas\n",
    "    plt.figure(figsize=(12, 5))\n",
    "\n",
    "    # Histograma Antes\n",
    "    plt.subplot(1, 2, 1) # 1 linha, 2 colunas, 1ª posição\n",
    "    plt.hist(faturamento_antes, bins=5, edgecolor='black', color='skyblue')\n",
    "    plt.title('Distribuição de Faturamento - ANTES do Desconto')\n",
    "    plt.xlabel('Faturamento (R$)')\n",
    "    plt.ylabel('Frequência (Lojas)')\n",
    "    plt.grid(axis='y', alpha=0.7)\n",
    "\n",
    "    # Histograma Depois\n",
    "    plt.subplot(1, 2, 2) # 1 linha, 2 colunas, 2ª posição\n",
    "    plt.hist(faturamento_depois, bins=5, edgecolor='black', color='lightcoral')\n",
    "    plt.title('Distribuição de Faturamento - DEPOIS do Desconto')\n",
    "    plt.xlabel('Faturamento Ajustado (R$)')\n",
    "    plt.ylabel('Frequência (Lojas)')\n",
    "    plt.grid(axis='y', alpha=0.7)\n",
    "\n",
    "    plt.tight_layout() # Ajusta automaticamente os subtítulos e rótulos\n",
    "    plt.show()\n",
    "\n",
    "if __name__ == \"__main__\":\n",
    "    # 1. Entrada de Dados e Aplicação da Lógica de Desconto (a)\n",
    "    lojas_originais, lojas_ajustadas = processar_faturamento()\n",
    "    \n",
    "    # 2. Cálculos e Exibição dos Resultados Finais (b)\n",
    "    faturamento_antes, faturamento_depois = realizar_calculos_finais(lojas_ajustadas)\n",
    "    \n",
    "    # 3. Estatísticas e Visualização (c)\n",
    "    exibir_estatisticas_e_histogramas(faturamento_antes, faturamento_depois)"
   ]
  }
 ],
 "metadata": {
  "language_info": {
   "name": "python"
  }
 },
 "nbformat": 4,
 "nbformat_minor": 5
}
